{
 "cells": [
  {
   "cell_type": "markdown",
   "metadata": {},
   "source": [
    "# Imports"
   ]
  },
  {
   "cell_type": "code",
   "execution_count": 1,
   "metadata": {},
   "outputs": [],
   "source": [
    "#!pip install sklearn matplotlib"
   ]
  },
  {
   "cell_type": "code",
   "execution_count": 2,
   "metadata": {
    "id": "8vW9svTE289D"
   },
   "outputs": [
    {
     "name": "stderr",
     "output_type": "stream",
     "text": [
      "/opt/homebrew/lib/python3.10/site-packages/tqdm/auto.py:22: TqdmWarning: IProgress not found. Please update jupyter and ipywidgets. See https://ipywidgets.readthedocs.io/en/stable/user_install.html\n",
      "  from .autonotebook import tqdm as notebook_tqdm\n"
     ]
    }
   ],
   "source": [
    "import spacy\n",
    "import pandas as pd\n",
    "import numpy as np\n",
    "import string\n",
    "from spacy.lang.en.stop_words import STOP_WORDS\n",
    "from spacy.lang.en import English\n",
    "from spacy.vectors import Vectors\n",
    "from tqdm import tqdm\n",
    "tqdm.pandas()"
   ]
  },
  {
   "cell_type": "markdown",
   "metadata": {},
   "source": [
    "## Get data"
   ]
  },
  {
   "cell_type": "code",
   "execution_count": 3,
   "metadata": {},
   "outputs": [
    {
     "data": {
      "text/html": [
       "<div>\n",
       "<style scoped>\n",
       "    .dataframe tbody tr th:only-of-type {\n",
       "        vertical-align: middle;\n",
       "    }\n",
       "\n",
       "    .dataframe tbody tr th {\n",
       "        vertical-align: top;\n",
       "    }\n",
       "\n",
       "    .dataframe thead th {\n",
       "        text-align: right;\n",
       "    }\n",
       "</style>\n",
       "<table border=\"1\" class=\"dataframe\">\n",
       "  <thead>\n",
       "    <tr style=\"text-align: right;\">\n",
       "      <th></th>\n",
       "      <th>title</th>\n",
       "      <th>score</th>\n",
       "      <th>id</th>\n",
       "      <th>url</th>\n",
       "      <th>comms_num</th>\n",
       "      <th>created</th>\n",
       "      <th>body</th>\n",
       "      <th>timestamp</th>\n",
       "      <th>text</th>\n",
       "      <th>sentiment</th>\n",
       "    </tr>\n",
       "  </thead>\n",
       "  <tbody>\n",
       "    <tr>\n",
       "      <th>0</th>\n",
       "      <td>It's not about the money, it's about sending a...</td>\n",
       "      <td>55</td>\n",
       "      <td>l6ulcx</td>\n",
       "      <td>https://v.redd.it/6j75regs72e61</td>\n",
       "      <td>6</td>\n",
       "      <td>2021-01-28 19:37:41</td>\n",
       "      <td>NaN</td>\n",
       "      <td>2021-01-28 21:37:41</td>\n",
       "      <td>It's not about the money, it's about sending a...</td>\n",
       "      <td>0.0000</td>\n",
       "    </tr>\n",
       "    <tr>\n",
       "      <th>1</th>\n",
       "      <td>Math Professor Scott Steiner says the numbers ...</td>\n",
       "      <td>110</td>\n",
       "      <td>l6uibd</td>\n",
       "      <td>https://v.redd.it/ah50lyny62e61</td>\n",
       "      <td>23</td>\n",
       "      <td>2021-01-28 19:32:10</td>\n",
       "      <td>NaN</td>\n",
       "      <td>2021-01-28 21:32:10</td>\n",
       "      <td>Math Professor Scott Steiner says the numbers ...</td>\n",
       "      <td>-0.7034</td>\n",
       "    </tr>\n",
       "    <tr>\n",
       "      <th>2</th>\n",
       "      <td>Exit the system</td>\n",
       "      <td>0</td>\n",
       "      <td>l6uhhn</td>\n",
       "      <td>https://www.reddit.com/r/wallstreetbets/commen...</td>\n",
       "      <td>47</td>\n",
       "      <td>2021-01-28 19:30:35</td>\n",
       "      <td>The CEO of NASDAQ pushed to halt trading “to g...</td>\n",
       "      <td>2021-01-28 21:30:35</td>\n",
       "      <td>Exit the system ### The CEO of NASDAQ pushed t...</td>\n",
       "      <td>-0.4199</td>\n",
       "    </tr>\n",
       "    <tr>\n",
       "      <th>3</th>\n",
       "      <td>NEW SEC FILING FOR GME! CAN SOMEONE LESS RETAR...</td>\n",
       "      <td>29</td>\n",
       "      <td>l6ugk6</td>\n",
       "      <td>https://sec.report/Document/0001193125-21-019848/</td>\n",
       "      <td>74</td>\n",
       "      <td>2021-01-28 19:28:57</td>\n",
       "      <td>NaN</td>\n",
       "      <td>2021-01-28 21:28:57</td>\n",
       "      <td>NEW SEC FILING FOR GME! CAN SOMEONE LESS RETAR...</td>\n",
       "      <td>-0.4822</td>\n",
       "    </tr>\n",
       "    <tr>\n",
       "      <th>4</th>\n",
       "      <td>Not to distract from GME, just thought our AMC...</td>\n",
       "      <td>71</td>\n",
       "      <td>l6ufgy</td>\n",
       "      <td>https://i.redd.it/4h2sukb662e61.jpg</td>\n",
       "      <td>156</td>\n",
       "      <td>2021-01-28 19:26:56</td>\n",
       "      <td>NaN</td>\n",
       "      <td>2021-01-28 21:26:56</td>\n",
       "      <td>Not to distract from GME, just thought our AMC...</td>\n",
       "      <td>0.2235</td>\n",
       "    </tr>\n",
       "  </tbody>\n",
       "</table>\n",
       "</div>"
      ],
      "text/plain": [
       "                                               title  score      id  \\\n",
       "0  It's not about the money, it's about sending a...     55  l6ulcx   \n",
       "1  Math Professor Scott Steiner says the numbers ...    110  l6uibd   \n",
       "2                                    Exit the system      0  l6uhhn   \n",
       "3  NEW SEC FILING FOR GME! CAN SOMEONE LESS RETAR...     29  l6ugk6   \n",
       "4  Not to distract from GME, just thought our AMC...     71  l6ufgy   \n",
       "\n",
       "                                                 url  comms_num  \\\n",
       "0                    https://v.redd.it/6j75regs72e61          6   \n",
       "1                    https://v.redd.it/ah50lyny62e61         23   \n",
       "2  https://www.reddit.com/r/wallstreetbets/commen...         47   \n",
       "3  https://sec.report/Document/0001193125-21-019848/         74   \n",
       "4                https://i.redd.it/4h2sukb662e61.jpg        156   \n",
       "\n",
       "              created                                               body  \\\n",
       "0 2021-01-28 19:37:41                                                NaN   \n",
       "1 2021-01-28 19:32:10                                                NaN   \n",
       "2 2021-01-28 19:30:35  The CEO of NASDAQ pushed to halt trading “to g...   \n",
       "3 2021-01-28 19:28:57                                                NaN   \n",
       "4 2021-01-28 19:26:56                                                NaN   \n",
       "\n",
       "             timestamp                                               text  \\\n",
       "0  2021-01-28 21:37:41  It's not about the money, it's about sending a...   \n",
       "1  2021-01-28 21:32:10  Math Professor Scott Steiner says the numbers ...   \n",
       "2  2021-01-28 21:30:35  Exit the system ### The CEO of NASDAQ pushed t...   \n",
       "3  2021-01-28 21:28:57  NEW SEC FILING FOR GME! CAN SOMEONE LESS RETAR...   \n",
       "4  2021-01-28 21:26:56  Not to distract from GME, just thought our AMC...   \n",
       "\n",
       "   sentiment  \n",
       "0     0.0000  \n",
       "1    -0.7034  \n",
       "2    -0.4199  \n",
       "3    -0.4822  \n",
       "4     0.2235  "
      ]
     },
     "execution_count": 3,
     "metadata": {},
     "output_type": "execute_result"
    }
   ],
   "source": [
    "df = pd.read_pickle(\"DATA/reddit_wsb_sentiment.pkl\")\n",
    "df['created'] = pd.to_datetime(df['created'], unit=\"s\")\n",
    "titles = df[\"title\"]\n",
    "bodies = df[\"body\"].dropna()\n",
    "df[\"text\"] = df[\"title\"].str.cat(df[\"body\"], sep=\" ### \", na_rep=\"(Empty body)\")\n",
    "\n",
    "df.head()"
   ]
  },
  {
   "cell_type": "markdown",
   "metadata": {},
   "source": [
    "We'll use the following example sentence"
   ]
  },
  {
   "cell_type": "code",
   "execution_count": 4,
   "metadata": {},
   "outputs": [
    {
     "data": {
      "text/plain": [
       "'420 wasn’t a meme. GME 🚀 🚀 🚀 ### (Empty body)'"
      ]
     },
     "execution_count": 4,
     "metadata": {},
     "output_type": "execute_result"
    }
   ],
   "source": [
    "sentence = df[\"text\"].iloc[15]\n",
    "sentence"
   ]
  },
  {
   "cell_type": "markdown",
   "metadata": {},
   "source": [
    "# Calculate simple target"
   ]
  },
  {
   "cell_type": "code",
   "execution_count": 5,
   "metadata": {},
   "outputs": [
    {
     "data": {
      "text/plain": [
       "negative    26964\n",
       "positive    14940\n",
       "neutral      8166\n",
       "Name: sentiment_category, dtype: int64"
      ]
     },
     "execution_count": 5,
     "metadata": {},
     "output_type": "execute_result"
    }
   ],
   "source": [
    "df[\"sentiment_category\"] = pd.qcut(df[\"sentiment\"],[0,0.3,0.7,1], labels=[\"negative\", \"neutral\", \"positive\"])\n",
    "df[\"sentiment_category\"].value_counts()"
   ]
  },
  {
   "cell_type": "markdown",
   "metadata": {},
   "source": [
    "## Clean data"
   ]
  },
  {
   "cell_type": "code",
   "execution_count": 6,
   "metadata": {},
   "outputs": [
    {
     "data": {
      "text/plain": [
       "['420', 'meme', 'gme', '🚀', '🚀', '🚀', 'body']"
      ]
     },
     "execution_count": 6,
     "metadata": {},
     "output_type": "execute_result"
    }
   ],
   "source": [
    "punctuations = string.punctuation\n",
    "\n",
    "nlp = spacy.load('en_core_web_md')\n",
    "stop_words = spacy.lang.en.stop_words.STOP_WORDS\n",
    "\n",
    "def spacy_tokenizer(sentence):\n",
    "    # Creating our token object, which is used to create documents with linguistic annotations.\n",
    "    mytokens = nlp(sentence)\n",
    "\n",
    "    # Lemmatise + lower case\n",
    "    mytokens = [ word.lemma_.lower().strip() if word.lemma_ != \"-PRON-\" else word.lower_ for word in mytokens ]\n",
    "\n",
    "    # Remove stop words\n",
    "    mytokens = [ word for word in mytokens if word not in stop_words and word not in punctuations ]\n",
    "\n",
    "    return mytokens\n",
    "\n",
    "spacy_tokenizer(sentence)"
   ]
  },
  {
   "cell_type": "code",
   "execution_count": 7,
   "metadata": {},
   "outputs": [
    {
     "name": "stdout",
     "output_type": "stream",
     "text": [
      "[[ -1.3111    -2.2037     0.65573  ...   2.6366    -1.0796     5.2409  ]\n",
      " [  1.799      0.067666   1.1057   ...   1.0487    -3.508     -1.0316  ]\n",
      " [ -4.5944    -1.4746     0.51068  ...  -3.5714     3.0194    -0.11818 ]\n",
      " ...\n",
      " [  1.7872    -8.747     -1.8549   ...  -3.3436     4.5346     6.3035  ]\n",
      " [  1.7872    -8.747     -1.8549   ...  -3.3436     4.5346     6.3035  ]\n",
      " [  0.49034    0.11765  -10.686    ...  -0.25644   -0.87749    2.2443  ]]\n",
      "(7, 300)\n"
     ]
    }
   ],
   "source": [
    "def embed_words(sentence):\n",
    "    tokens = spacy_tokenizer(sentence)\n",
    "    return nlp.vocab.vectors.get_batch(tokens)\n",
    "\n",
    "word_embeddings = embed_words(sentence)\n",
    "print(word_embeddings)\n",
    "print(word_embeddings.shape)"
   ]
  },
  {
   "cell_type": "markdown",
   "metadata": {},
   "source": [
    "## Simple model: just average the words"
   ]
  },
  {
   "cell_type": "code",
   "execution_count": 8,
   "metadata": {},
   "outputs": [
    {
     "name": "stdout",
     "output_type": "stream",
     "text": [
      "[ 2.4934861e-01 -4.2477121e+00 -1.9969414e+00 -6.0940661e+00\n",
      "  1.8641173e+00  6.7696557e+00  7.9516572e-01  7.6088142e-01\n",
      "  3.7224274e-02 -1.2511842e+00 -5.7341999e-01 -8.2601577e-01\n",
      " -3.1560729e+00  1.4155896e+00 -1.6339144e+00 -1.0075514e+00\n",
      "  4.5760140e-01  2.5578567e-01 -2.6028862e+00 -3.5834155e+00\n",
      " -5.5295146e-01  2.4734015e+00 -6.3465726e-01 -4.0045004e+00\n",
      " -1.4388368e+00 -1.6091000e+00  1.5872858e+00  4.3134856e+00\n",
      "  9.4334573e-01 -1.5974998e+00  1.7713099e+00 -7.5684291e-01\n",
      " -2.4234283e+00 -2.7611413e+00  3.1234572e+00 -1.5154871e+00\n",
      "  3.2047716e-01 -1.9814799e+00  1.1485758e+00 -1.7749571e+00\n",
      "  1.8127286e+00 -1.4910004e-01 -1.9134701e+00  9.6734101e-01\n",
      "  8.9014286e-01  3.3409557e+00 -1.2728460e+00 -1.2219999e+00\n",
      " -6.7379713e-01  1.9540428e+00  2.5145584e-01  1.0326813e+00\n",
      " -3.2669129e+00 -1.8583745e+00  3.8642957e+00 -6.7071438e-01\n",
      "  2.5737286e+00  3.6864445e+00 -9.3748569e-02  5.1408014e+00\n",
      " -9.3588859e-01  2.0895786e+00 -2.4086001e+00  1.3962504e+00\n",
      " -1.2755858e+00 -7.9300433e-01 -3.7509000e+00  7.3548728e-01\n",
      "  2.7632031e+00  2.4977143e+00 -2.6248672e+00  3.9944046e+00\n",
      "  1.2829187e+00  3.9731428e-01  1.0308585e+00 -3.6657342e-01\n",
      " -4.4763994e+00 -2.3208858e-01 -6.4777565e-01 -2.2360201e+00\n",
      "  1.2003700e+00 -3.2696443e+00  1.0237159e+00 -3.8158527e-01\n",
      " -2.9028313e+00  1.0393428e+00  8.0540001e-01  2.1196413e+00\n",
      " -1.7842785e+00  1.4954338e+00  2.5251827e+00  7.1643677e+00\n",
      " -1.1803668e+00 -2.3761714e+00 -3.7766039e+00  3.5744386e+00\n",
      "  3.4585056e+00 -1.4712785e+00 -3.6672814e+00 -4.3749495e+00\n",
      " -3.0719428e+00  3.4666045e+00  1.3853256e+00 -1.6551187e+00\n",
      "  2.7308345e+00  1.2182714e+00  2.1938844e+00 -3.6513429e+00\n",
      "  3.2405400e-01 -3.1052573e+00  2.3947570e+00 -2.3639357e+00\n",
      "  5.6111860e-01  1.2575302e-01  4.3916279e-01 -3.0972857e+00\n",
      " -3.1003141e-01  3.2658571e-01 -2.6483572e+00 -3.9681602e+00\n",
      " -3.6981244e+00  2.3369858e+00  4.1748424e+00  3.7771213e+00\n",
      "  3.5520999e+00 -1.3727382e+00  9.6407712e-01  5.2235717e-01\n",
      " -1.5603415e+00 -4.8863711e+00  2.4629429e-01 -1.4502856e-01\n",
      "  1.7701713e+00  1.8222258e+00 -1.9720072e+00  3.4360974e+00\n",
      "  3.5765140e+00 -3.7452686e+00 -1.1544273e+00  3.4021614e+00\n",
      "  6.1724138e-01 -9.1148144e-01  6.6420412e+00  2.9571686e+00\n",
      " -2.2219576e-01  5.2207297e-01 -3.9699990e-01 -3.4505429e+00\n",
      "  8.2044995e-01  1.9583544e+00  4.5202799e+00  1.7402842e+00\n",
      "  1.8811710e-01 -5.7219720e+00  1.7967442e+00 -2.1350100e+00\n",
      " -1.0505058e+00 -2.4109994e-01  1.7401999e+00  2.5832629e+00\n",
      "  2.3213470e+00 -3.0055728e-02  4.3259940e+00  7.9167143e-02\n",
      " -1.5503156e+00  5.9914249e-03 -2.1432388e+00 -5.9815249e+00\n",
      "  1.0298141e-01 -5.1337142e+00 -4.9361715e+00 -1.0167971e+00\n",
      " -1.1980215e+00 -1.2136328e+00 -5.1510149e-01 -2.9752355e+00\n",
      "  2.3706830e+00  1.3765571e-01  2.6421642e+00 -1.7653058e+00\n",
      "  3.9708271e+00 -4.1001630e+00 -3.6780684e+00 -2.0484715e+00\n",
      " -4.7550139e+00  1.8764256e+00  9.0448850e-01 -4.5075302e+00\n",
      " -1.0805000e+00 -1.8116914e+00  7.9277283e-01  8.4839863e-01\n",
      "  6.2000003e-02  3.0085428e+00  5.9296852e-01  2.9385716e-01\n",
      " -2.2403629e+00  6.3848859e-01 -3.2586858e+00 -4.7568130e+00\n",
      " -4.8945575e+00 -3.1062284e+00 -4.8691258e+00 -8.1108993e-01\n",
      " -2.5283000e+00 -9.9252425e-02 -2.1948848e+00  4.1208911e+00\n",
      "  4.9919744e+00 -3.3347130e+00  2.3917472e+00  7.1791691e-01\n",
      "  1.7035142e+00  5.7813138e-01 -3.6426289e+00  6.7644566e-01\n",
      "  3.9937999e+00 -8.2615137e+00  4.2328887e+00  2.1889260e+00\n",
      "  1.2882328e+00  3.7672997e-01 -2.4803386e+00  1.3153860e-01\n",
      "  2.5675285e+00  2.7327459e+00  2.1900871e+00 -1.1158571e+00\n",
      " -3.4410000e-01 -2.5105987e+00 -1.8292567e-01 -2.8718715e+00\n",
      " -2.3050141e+00 -8.4927303e-01 -2.6257286e+00 -8.7577140e-01\n",
      " -1.3076086e+00  1.5790800e+00  2.0016999e+00 -9.2014283e-01\n",
      "  1.1532328e+00 -2.6531296e+00 -4.4131570e+00 -1.9142586e+00\n",
      " -3.7613056e+00 -8.5177231e-01 -4.5635700e-02 -1.9440007e-01\n",
      "  2.6273572e+00  2.2662797e+00  4.1119862e-01 -3.3856444e+00\n",
      " -7.0369709e-01 -3.3477843e+00  2.8227232e+00 -4.1706843e+00\n",
      " -6.4780712e-01  2.1753044e+00 -9.6012866e-01  8.4954423e-01\n",
      "  1.5263201e+00 -4.6849006e-01  2.8895285e+00 -2.9088576e+00\n",
      " -6.1476320e-01  3.3493145e+00 -1.9615128e+00 -1.3857484e-03\n",
      " -1.1243814e+00 -2.6389143e+00 -2.8455145e+00 -2.4444440e-01\n",
      " -3.0465844e+00 -9.1400284e-01  1.1439857e+00 -1.1659458e+00\n",
      " -7.8900713e-01  3.4640715e-01 -8.4546244e-01  5.0321853e-01\n",
      " -2.5603142e+00 -1.6628472e+00 -1.6999926e-02 -2.7877483e+00\n",
      "  8.2890850e-01 -2.7494261e-02  2.3099973e+00 -1.3208044e+00\n",
      " -4.4330850e+00 -1.6573178e+00  3.6993158e+00 -1.5215913e+00\n",
      "  1.8495286e+00 -1.3050058e+00 -1.4309286e+00  4.8785348e+00\n",
      "  3.8660031e-02 -1.4533345e+00  1.5940155e+00  3.6065602e+00]\n",
      "(300,)\n"
     ]
    }
   ],
   "source": [
    "def embed_sentence_simple(sentence):\n",
    "    \"\"\"\n",
    "    This is the part where you can go crazy and complex to add features, change aggregation way, use PCA, ...\n",
    "    \"\"\"\n",
    "    word_embeddings = embed_words(sentence)\n",
    "    sentence_embedding = word_embeddings.mean(axis=0)\n",
    "    return sentence_embedding\n",
    "\n",
    "sentence_embedding = embed_sentence_simple(sentence)\n",
    "print(sentence_embedding)\n",
    "print(sentence_embedding.shape)"
   ]
  },
  {
   "cell_type": "code",
   "execution_count": 9,
   "metadata": {},
   "outputs": [
    {
     "name": "stdout",
     "output_type": "stream",
     "text": [
      "CPU times: user 20min 3s, sys: 28.1 s, total: 20min 31s\n",
      "Wall time: 20min 34s\n"
     ]
    }
   ],
   "source": [
    "%%time\n",
    "\n",
    "df[\"features_simple\"] = df[\"text\"].progress_map(embed_sentence_simple)\n",
    "\n",
    "# Takes ~20 minutes so we cache the results now.\n",
    "df.to_pickle(\"DATA/reddit_wsb_sentiment_features.pkl\")"
   ]
  },
  {
   "cell_type": "code",
   "execution_count": 12,
   "metadata": {},
   "outputs": [],
   "source": [
    "# Load cached results\n",
    "df = pd.read_pickle(\"DATA/reddit_wsb_sentiment_features.pkl\")"
   ]
  },
  {
   "cell_type": "markdown",
   "metadata": {},
   "source": [
    "## Classify"
   ]
  },
  {
   "cell_type": "code",
   "execution_count": 14,
   "metadata": {},
   "outputs": [
    {
     "data": {
      "text/plain": [
       "(50070, 300)"
      ]
     },
     "execution_count": 14,
     "metadata": {},
     "output_type": "execute_result"
    }
   ],
   "source": [
    "X = np.stack(df[\"features_simple\"].values)\n",
    "X.shape"
   ]
  },
  {
   "cell_type": "code",
   "execution_count": 15,
   "metadata": {},
   "outputs": [],
   "source": [
    "y = df[\"sentiment_category\"]"
   ]
  },
  {
   "cell_type": "code",
   "execution_count": 16,
   "metadata": {},
   "outputs": [],
   "source": [
    "from sklearn.model_selection import train_test_split"
   ]
  },
  {
   "cell_type": "code",
   "execution_count": 17,
   "metadata": {},
   "outputs": [
    {
     "name": "stdout",
     "output_type": "stream",
     "text": [
      "X_train shape: (37552, 300)\n",
      "X_test shape: (12518, 300)\n",
      "y_train shape: (37552,)\n",
      "y_test shape: (12518,)\n"
     ]
    }
   ],
   "source": [
    "X_train, X_test, y_train, y_test = train_test_split(X, y, random_state=22141)\n",
    "print(f\"X_train shape: {X_train.shape}\")\n",
    "print(f\"X_test shape: {X_test.shape}\")\n",
    "print(f\"y_train shape: {y_train.shape}\")\n",
    "print(f\"y_test shape: {y_test.shape}\")\n",
    "\n"
   ]
  },
  {
   "cell_type": "code",
   "execution_count": 18,
   "metadata": {},
   "outputs": [
    {
     "name": "stdout",
     "output_type": "stream",
     "text": [
      "CPU times: user 29.7 s, sys: 261 ms, total: 30 s\n",
      "Wall time: 30.8 s\n"
     ]
    },
    {
     "data": {
      "text/html": [
       "<style>#sk-container-id-1 {color: black;background-color: white;}#sk-container-id-1 pre{padding: 0;}#sk-container-id-1 div.sk-toggleable {background-color: white;}#sk-container-id-1 label.sk-toggleable__label {cursor: pointer;display: block;width: 100%;margin-bottom: 0;padding: 0.3em;box-sizing: border-box;text-align: center;}#sk-container-id-1 label.sk-toggleable__label-arrow:before {content: \"▸\";float: left;margin-right: 0.25em;color: #696969;}#sk-container-id-1 label.sk-toggleable__label-arrow:hover:before {color: black;}#sk-container-id-1 div.sk-estimator:hover label.sk-toggleable__label-arrow:before {color: black;}#sk-container-id-1 div.sk-toggleable__content {max-height: 0;max-width: 0;overflow: hidden;text-align: left;background-color: #f0f8ff;}#sk-container-id-1 div.sk-toggleable__content pre {margin: 0.2em;color: black;border-radius: 0.25em;background-color: #f0f8ff;}#sk-container-id-1 input.sk-toggleable__control:checked~div.sk-toggleable__content {max-height: 200px;max-width: 100%;overflow: auto;}#sk-container-id-1 input.sk-toggleable__control:checked~label.sk-toggleable__label-arrow:before {content: \"▾\";}#sk-container-id-1 div.sk-estimator input.sk-toggleable__control:checked~label.sk-toggleable__label {background-color: #d4ebff;}#sk-container-id-1 div.sk-label input.sk-toggleable__control:checked~label.sk-toggleable__label {background-color: #d4ebff;}#sk-container-id-1 input.sk-hidden--visually {border: 0;clip: rect(1px 1px 1px 1px);clip: rect(1px, 1px, 1px, 1px);height: 1px;margin: -1px;overflow: hidden;padding: 0;position: absolute;width: 1px;}#sk-container-id-1 div.sk-estimator {font-family: monospace;background-color: #f0f8ff;border: 1px dotted black;border-radius: 0.25em;box-sizing: border-box;margin-bottom: 0.5em;}#sk-container-id-1 div.sk-estimator:hover {background-color: #d4ebff;}#sk-container-id-1 div.sk-parallel-item::after {content: \"\";width: 100%;border-bottom: 1px solid gray;flex-grow: 1;}#sk-container-id-1 div.sk-label:hover label.sk-toggleable__label {background-color: #d4ebff;}#sk-container-id-1 div.sk-serial::before {content: \"\";position: absolute;border-left: 1px solid gray;box-sizing: border-box;top: 0;bottom: 0;left: 50%;z-index: 0;}#sk-container-id-1 div.sk-serial {display: flex;flex-direction: column;align-items: center;background-color: white;padding-right: 0.2em;padding-left: 0.2em;position: relative;}#sk-container-id-1 div.sk-item {position: relative;z-index: 1;}#sk-container-id-1 div.sk-parallel {display: flex;align-items: stretch;justify-content: center;background-color: white;position: relative;}#sk-container-id-1 div.sk-item::before, #sk-container-id-1 div.sk-parallel-item::before {content: \"\";position: absolute;border-left: 1px solid gray;box-sizing: border-box;top: 0;bottom: 0;left: 50%;z-index: -1;}#sk-container-id-1 div.sk-parallel-item {display: flex;flex-direction: column;z-index: 1;position: relative;background-color: white;}#sk-container-id-1 div.sk-parallel-item:first-child::after {align-self: flex-end;width: 50%;}#sk-container-id-1 div.sk-parallel-item:last-child::after {align-self: flex-start;width: 50%;}#sk-container-id-1 div.sk-parallel-item:only-child::after {width: 0;}#sk-container-id-1 div.sk-dashed-wrapped {border: 1px dashed gray;margin: 0 0.4em 0.5em 0.4em;box-sizing: border-box;padding-bottom: 0.4em;background-color: white;}#sk-container-id-1 div.sk-label label {font-family: monospace;font-weight: bold;display: inline-block;line-height: 1.2em;}#sk-container-id-1 div.sk-label-container {text-align: center;}#sk-container-id-1 div.sk-container {/* jupyter's `normalize.less` sets `[hidden] { display: none; }` but bootstrap.min.css set `[hidden] { display: none !important; }` so we also need the `!important` here to be able to override the default hidden behavior on the sphinx rendered scikit-learn.org. See: https://github.com/scikit-learn/scikit-learn/issues/21755 */display: inline-block !important;position: relative;}#sk-container-id-1 div.sk-text-repr-fallback {display: none;}</style><div id=\"sk-container-id-1\" class=\"sk-top-container\"><div class=\"sk-text-repr-fallback\"><pre>RandomForestClassifier(class_weight=&#x27;balanced&#x27;, max_depth=2, n_estimators=300,\n",
       "                       random_state=22141)</pre><b>In a Jupyter environment, please rerun this cell to show the HTML representation or trust the notebook. <br />On GitHub, the HTML representation is unable to render, please try loading this page with nbviewer.org.</b></div><div class=\"sk-container\" hidden><div class=\"sk-item\"><div class=\"sk-estimator sk-toggleable\"><input class=\"sk-toggleable__control sk-hidden--visually\" id=\"sk-estimator-id-1\" type=\"checkbox\" checked><label for=\"sk-estimator-id-1\" class=\"sk-toggleable__label sk-toggleable__label-arrow\">RandomForestClassifier</label><div class=\"sk-toggleable__content\"><pre>RandomForestClassifier(class_weight=&#x27;balanced&#x27;, max_depth=2, n_estimators=300,\n",
       "                       random_state=22141)</pre></div></div></div></div></div>"
      ],
      "text/plain": [
       "RandomForestClassifier(class_weight='balanced', max_depth=2, n_estimators=300,\n",
       "                       random_state=22141)"
      ]
     },
     "execution_count": 18,
     "metadata": {},
     "output_type": "execute_result"
    }
   ],
   "source": [
    "%%time\n",
    "from sklearn.ensemble import RandomForestClassifier\n",
    "from sklearn.datasets import make_classification\n",
    "\n",
    "clf = RandomForestClassifier(max_depth=2, random_state=22141, class_weight=\"balanced\", n_estimators=300)\n",
    "clf.fit(X, y)\n",
    "\n"
   ]
  },
  {
   "cell_type": "markdown",
   "metadata": {},
   "source": [
    "## Evaluate"
   ]
  },
  {
   "cell_type": "code",
   "execution_count": 19,
   "metadata": {},
   "outputs": [],
   "source": [
    "\n",
    "predictions = clf.predict(X_test)"
   ]
  },
  {
   "cell_type": "code",
   "execution_count": 20,
   "metadata": {},
   "outputs": [
    {
     "name": "stdout",
     "output_type": "stream",
     "text": [
      "              precision    recall  f1-score   support\n",
      "\n",
      "    negative       0.78      0.51      0.62      6720\n",
      "     neutral       0.26      0.36      0.30      2038\n",
      "    positive       0.51      0.73      0.60      3760\n",
      "\n",
      "    accuracy                           0.55     12518\n",
      "   macro avg       0.52      0.53      0.51     12518\n",
      "weighted avg       0.61      0.55      0.56     12518\n",
      "\n"
     ]
    },
    {
     "data": {
      "image/png": "[encoded data removed]",
      "text/plain": [
       "<Figure size 800x500 with 2 Axes>"
      ]
     },
     "metadata": {},
     "output_type": "display_data"
    }
   ],
   "source": [
    "from matplotlib import pyplot as plt\n",
    "from sklearn.metrics import classification_report\n",
    "from sklearn.metrics import ConfusionMatrixDisplay, confusion_matrix\n",
    "print(classification_report(y_test, predictions))\n",
    "# Plot confusion matrix\n",
    "fig, ax = plt.subplots(figsize=(8, 5))\n",
    "cmp = ConfusionMatrixDisplay(\n",
    "    confusion_matrix(y_test, predictions),\n",
    "    display_labels=clf.classes_,\n",
    ")\n",
    "\n",
    "cmp.plot(ax=ax)\n",
    "plt.show();"
   ]
  },
  {
   "cell_type": "markdown",
   "metadata": {},
   "source": [
    "## What's next?\n",
    "\n",
    "The example above is to illustrate the theory of embeddings. In reality, you can build pipelines super easily with SpaCy (if you prioritize speed) or HuggingFace transfomers (if you prioritize accuracy)\n",
    "\n",
    "https://medium.com/@ycouble/training-and-integrating-a-custom-text-classifier-to-a-spacy-pipeline-b19e6a132487"
   ]
  },
  {
   "cell_type": "code",
   "execution_count": null,
   "metadata": {},
   "outputs": [],
   "source": []
  }
 ],
 "metadata": {
  "colab": {
   "collapsed_sections": [],
   "include_colab_link": true,
   "name": "nlpdemystified-preprocessing.ipynb",
   "private_outputs": true,
   "provenance": []
  },
  "kernelspec": {
   "display_name": "Python 3 (ipykernel)",
   "language": "python",
   "name": "python3"
  },
  "language_info": {
   "codemirror_mode": {
    "name": "ipython",
    "version": 3
   },
   "file_extension": ".py",
   "mimetype": "text/x-python",
   "name": "python",
   "nbconvert_exporter": "python",
   "pygments_lexer": "ipython3",
   "version": "3.10.8"
  }
 },
 "nbformat": 4,
 "nbformat_minor": 4
}
