{
 "cells": [
  {
   "cell_type": "code",
   "execution_count": 1,
   "id": "baeac700",
   "metadata": {},
   "outputs": [],
   "source": [
    "import pandas as pd\n",
    "pd.set_option('display.max_colwidth', 1000) # show some more text by default\n"
   ]
  },
  {
   "cell_type": "code",
   "execution_count": 2,
   "id": "8a5060b7",
   "metadata": {},
   "outputs": [
    {
     "data": {
      "text/html": [
       "<div>\n",
       "<style scoped>\n",
       "    .dataframe tbody tr th:only-of-type {\n",
       "        vertical-align: middle;\n",
       "    }\n",
       "\n",
       "    .dataframe tbody tr th {\n",
       "        vertical-align: top;\n",
       "    }\n",
       "\n",
       "    .dataframe thead th {\n",
       "        text-align: right;\n",
       "    }\n",
       "</style>\n",
       "<table border=\"1\" class=\"dataframe\">\n",
       "  <thead>\n",
       "    <tr style=\"text-align: right;\">\n",
       "      <th></th>\n",
       "      <th>title</th>\n",
       "      <th>score</th>\n",
       "      <th>id</th>\n",
       "      <th>url</th>\n",
       "      <th>comms_num</th>\n",
       "      <th>created</th>\n",
       "      <th>body</th>\n",
       "      <th>timestamp</th>\n",
       "      <th>text</th>\n",
       "    </tr>\n",
       "  </thead>\n",
       "  <tbody>\n",
       "    <tr>\n",
       "      <th>0</th>\n",
       "      <td>It's not about the money, it's about sending a message. 🚀💎🙌</td>\n",
       "      <td>55</td>\n",
       "      <td>l6ulcx</td>\n",
       "      <td>https://v.redd.it/6j75regs72e61</td>\n",
       "      <td>6</td>\n",
       "      <td>2021-01-28 19:37:41</td>\n",
       "      <td>NaN</td>\n",
       "      <td>2021-01-28 21:37:41</td>\n",
       "      <td>It's not about the money, it's about sending a message. 🚀💎🙌 ### (Empty body)</td>\n",
       "    </tr>\n",
       "    <tr>\n",
       "      <th>1</th>\n",
       "      <td>Math Professor Scott Steiner says the numbers spell DISASTER for Gamestop shorts</td>\n",
       "      <td>110</td>\n",
       "      <td>l6uibd</td>\n",
       "      <td>https://v.redd.it/ah50lyny62e61</td>\n",
       "      <td>23</td>\n",
       "      <td>2021-01-28 19:32:10</td>\n",
       "      <td>NaN</td>\n",
       "      <td>2021-01-28 21:32:10</td>\n",
       "      <td>Math Professor Scott Steiner says the numbers spell DISASTER for Gamestop shorts ### (Empty body)</td>\n",
       "    </tr>\n",
       "    <tr>\n",
       "      <th>2</th>\n",
       "      <td>Exit the system</td>\n",
       "      <td>0</td>\n",
       "      <td>l6uhhn</td>\n",
       "      <td>https://www.reddit.com/r/wallstreetbets/comments/l6uhhn/exit_the_system/</td>\n",
       "      <td>47</td>\n",
       "      <td>2021-01-28 19:30:35</td>\n",
       "      <td>The CEO of NASDAQ pushed to halt trading “to give investors a chance to recalibrate their positions”.\\n\\n[https://mobile.twitter.com/Mediaite/status/1354504710695362563](https://mobile.twitter.com/Mediaite/status/1354504710695362563)\\n\\nNow SEC is investigating, brokers are disallowing buying more calls. This is the institutions flat out admitting they will change the rules to bail out the rich but if it happens to us, we get a “well shucks you should have known investing is risky! have you tried cutting out avocados and coffee, maybe doing Uber on the side?”\\n\\nWe may have collectively driven up enough sentiment in wall street to make other big players go long on GME with us (we do not have the money to move the stock as much as it did alone). we didn’t hurt wall street as a whole, just a few funds went down while others went up and profited off the shorts the same as us. The media wants to pin the blame on us.\\n\\nIt should be crystal clear that this is a rigged game by now. Its t...</td>\n",
       "      <td>2021-01-28 21:30:35</td>\n",
       "      <td>Exit the system ### The CEO of NASDAQ pushed to halt trading “to give investors a chance to recalibrate their positions”.\\n\\n[https://mobile.twitter.com/Mediaite/status/1354504710695362563](https://mobile.twitter.com/Mediaite/status/1354504710695362563)\\n\\nNow SEC is investigating, brokers are disallowing buying more calls. This is the institutions flat out admitting they will change the rules to bail out the rich but if it happens to us, we get a “well shucks you should have known investing is risky! have you tried cutting out avocados and coffee, maybe doing Uber on the side?”\\n\\nWe may have collectively driven up enough sentiment in wall street to make other big players go long on GME with us (we do not have the money to move the stock as much as it did alone). we didn’t hurt wall street as a whole, just a few funds went down while others went up and profited off the shorts the same as us. The media wants to pin the blame on us.\\n\\nIt should be crystal clear that this is a rigge...</td>\n",
       "    </tr>\n",
       "    <tr>\n",
       "      <th>3</th>\n",
       "      <td>NEW SEC FILING FOR GME! CAN SOMEONE LESS RETARDED THAN ME PLEASE INTERPRET?</td>\n",
       "      <td>29</td>\n",
       "      <td>l6ugk6</td>\n",
       "      <td>https://sec.report/Document/0001193125-21-019848/</td>\n",
       "      <td>74</td>\n",
       "      <td>2021-01-28 19:28:57</td>\n",
       "      <td>NaN</td>\n",
       "      <td>2021-01-28 21:28:57</td>\n",
       "      <td>NEW SEC FILING FOR GME! CAN SOMEONE LESS RETARDED THAN ME PLEASE INTERPRET? ### (Empty body)</td>\n",
       "    </tr>\n",
       "    <tr>\n",
       "      <th>4</th>\n",
       "      <td>Not to distract from GME, just thought our AMC brothers should be aware of this</td>\n",
       "      <td>71</td>\n",
       "      <td>l6ufgy</td>\n",
       "      <td>https://i.redd.it/4h2sukb662e61.jpg</td>\n",
       "      <td>156</td>\n",
       "      <td>2021-01-28 19:26:56</td>\n",
       "      <td>NaN</td>\n",
       "      <td>2021-01-28 21:26:56</td>\n",
       "      <td>Not to distract from GME, just thought our AMC brothers should be aware of this ### (Empty body)</td>\n",
       "    </tr>\n",
       "  </tbody>\n",
       "</table>\n",
       "</div>"
      ],
      "text/plain": [
       "                                                                              title  \\\n",
       "0                       It's not about the money, it's about sending a message. 🚀💎🙌   \n",
       "1  Math Professor Scott Steiner says the numbers spell DISASTER for Gamestop shorts   \n",
       "2                                                                   Exit the system   \n",
       "3       NEW SEC FILING FOR GME! CAN SOMEONE LESS RETARDED THAN ME PLEASE INTERPRET?   \n",
       "4   Not to distract from GME, just thought our AMC brothers should be aware of this   \n",
       "\n",
       "   score      id  \\\n",
       "0     55  l6ulcx   \n",
       "1    110  l6uibd   \n",
       "2      0  l6uhhn   \n",
       "3     29  l6ugk6   \n",
       "4     71  l6ufgy   \n",
       "\n",
       "                                                                        url  \\\n",
       "0                                           https://v.redd.it/6j75regs72e61   \n",
       "1                                           https://v.redd.it/ah50lyny62e61   \n",
       "2  https://www.reddit.com/r/wallstreetbets/comments/l6uhhn/exit_the_system/   \n",
       "3                         https://sec.report/Document/0001193125-21-019848/   \n",
       "4                                       https://i.redd.it/4h2sukb662e61.jpg   \n",
       "\n",
       "   comms_num             created  \\\n",
       "0          6 2021-01-28 19:37:41   \n",
       "1         23 2021-01-28 19:32:10   \n",
       "2         47 2021-01-28 19:30:35   \n",
       "3         74 2021-01-28 19:28:57   \n",
       "4        156 2021-01-28 19:26:56   \n",
       "\n",
       "                                                                                                                                                                                                                                                                                                                                                                                                                                                                                                                                                                                                                                                                                                                                                                                                                                                                                                                                                                                                                                      body  \\\n",
       "0                                                                                                                                                                                                                                                                                                                                                                                                                                                                                                                                                                                                                                                                                                                                                                                                                                                                                                                                                                                                                                      NaN   \n",
       "1                                                                                                                                                                                                                                                                                                                                                                                                                                                                                                                                                                                                                                                                                                                                                                                                                                                                                                                                                                                                                                      NaN   \n",
       "2  The CEO of NASDAQ pushed to halt trading “to give investors a chance to recalibrate their positions”.\\n\\n[https://mobile.twitter.com/Mediaite/status/1354504710695362563](https://mobile.twitter.com/Mediaite/status/1354504710695362563)\\n\\nNow SEC is investigating, brokers are disallowing buying more calls. This is the institutions flat out admitting they will change the rules to bail out the rich but if it happens to us, we get a “well shucks you should have known investing is risky! have you tried cutting out avocados and coffee, maybe doing Uber on the side?”\\n\\nWe may have collectively driven up enough sentiment in wall street to make other big players go long on GME with us (we do not have the money to move the stock as much as it did alone). we didn’t hurt wall street as a whole, just a few funds went down while others went up and profited off the shorts the same as us. The media wants to pin the blame on us.\\n\\nIt should be crystal clear that this is a rigged game by now. Its t...   \n",
       "3                                                                                                                                                                                                                                                                                                                                                                                                                                                                                                                                                                                                                                                                                                                                                                                                                                                                                                                                                                                                                                      NaN   \n",
       "4                                                                                                                                                                                                                                                                                                                                                                                                                                                                                                                                                                                                                                                                                                                                                                                                                                                                                                                                                                                                                                      NaN   \n",
       "\n",
       "             timestamp  \\\n",
       "0  2021-01-28 21:37:41   \n",
       "1  2021-01-28 21:32:10   \n",
       "2  2021-01-28 21:30:35   \n",
       "3  2021-01-28 21:28:57   \n",
       "4  2021-01-28 21:26:56   \n",
       "\n",
       "                                                                                                                                                                                                                                                                                                                                                                                                                                                                                                                                                                                                                                                                                                                                                                                                                                                                                                                                                                                                                                      text  \n",
       "0                                                                                                                                                                                                                                                                                                                                                                                                                                                                                                                                                                                                                                                                                                                                                                                                                                                                                                                                                             It's not about the money, it's about sending a message. 🚀💎🙌 ### (Empty body)  \n",
       "1                                                                                                                                                                                                                                                                                                                                                                                                                                                                                                                                                                                                                                                                                                                                                                                                                                                                                                                                        Math Professor Scott Steiner says the numbers spell DISASTER for Gamestop shorts ### (Empty body)  \n",
       "2  Exit the system ### The CEO of NASDAQ pushed to halt trading “to give investors a chance to recalibrate their positions”.\\n\\n[https://mobile.twitter.com/Mediaite/status/1354504710695362563](https://mobile.twitter.com/Mediaite/status/1354504710695362563)\\n\\nNow SEC is investigating, brokers are disallowing buying more calls. This is the institutions flat out admitting they will change the rules to bail out the rich but if it happens to us, we get a “well shucks you should have known investing is risky! have you tried cutting out avocados and coffee, maybe doing Uber on the side?”\\n\\nWe may have collectively driven up enough sentiment in wall street to make other big players go long on GME with us (we do not have the money to move the stock as much as it did alone). we didn’t hurt wall street as a whole, just a few funds went down while others went up and profited off the shorts the same as us. The media wants to pin the blame on us.\\n\\nIt should be crystal clear that this is a rigge...  \n",
       "3                                                                                                                                                                                                                                                                                                                                                                                                                                                                                                                                                                                                                                                                                                                                                                                                                                                                                                                                             NEW SEC FILING FOR GME! CAN SOMEONE LESS RETARDED THAN ME PLEASE INTERPRET? ### (Empty body)  \n",
       "4                                                                                                                                                                                                                                                                                                                                                                                                                                                                                                                                                                                                                                                                                                                                                                                                                                                                                                                                         Not to distract from GME, just thought our AMC brothers should be aware of this ### (Empty body)  "
      ]
     },
     "execution_count": 2,
     "metadata": {},
     "output_type": "execute_result"
    }
   ],
   "source": [
    "df = pd.read_csv(\"DATA/reddit_wsb.csv\")\n",
    "df['created'] = pd.to_datetime(df['created'], unit=\"s\")\n",
    "titles = df[\"title\"]\n",
    "bodies = df[\"body\"].dropna()\n",
    "df[\"text\"] = df[\"title\"].str.cat(df[\"body\"], sep=\" ### \", na_rep=\"(Empty body)\")\n",
    "df.head()"
   ]
  },
  {
   "cell_type": "code",
   "execution_count": 3,
   "id": "6d03fcdd",
   "metadata": {},
   "outputs": [
    {
     "data": {
      "text/plain": [
       "2        The CEO of NASDAQ pushed to halt trading “to give investors a chance to recalibrate their positions”.\\n\\n[https://mobile.twitter.com/Mediaite/status/1354504710695362563](https://mobile.twitter.com/Mediaite/status/1354504710695362563)\\n\\nNow SEC is investigating, brokers are disallowing buying more calls. This is the institutions flat out admitting they will change the rules to bail out the rich but if it happens to us, we get a “well shucks you should have known investing is risky! have you tried cutting out avocados and coffee, maybe doing Uber on the side?”\\n\\nWe may have collectively driven up enough sentiment in wall street to make other big players go long on GME with us (we do not have the money to move the stock as much as it did alone). we didn’t hurt wall street as a whole, just a few funds went down while others went up and profited off the shorts the same as us. The media wants to pin the blame on us.\\n\\nIt should be crystal clear that this is a rigged game by now. Its t...\n",
       "6                                                                                                                                                                                                                                                                                                                                               Hedgefund whales are spreading disinfo saying Friday is make-or-break for $GME. Call options expiring ITM on Friday will drive the price up if levels are maintained, but may not trigger the short squeeze.\\n\\nIt may be Friday, but it could be next week the we see the real squeeze.\\n\\nDON'T PANIC IF THE SQUEEZE DOESN'T HAPPEN FRIDAY.\\n\\nIt's not guaranteed to. The only thing that is guaranteed mathematically is that the shorts will have to cover at some point in the future. They are trying to get enough people hooked on the false expectation of Friday so that if/when it doesn't happen, enough will sell out of panic/despair. DON'T BE THAT PERSON.\\n\\nWE LIKE THE STOCK\n",
       "7        Life isn't fair. My mother always told me that when I would complain about arbitrary treatment. I would play by the rules and someone else would ignore them. When they would win I would appeal to the first authority for an explanation. \"Are you going to let them get away with this\"? \"Life isn't fair\". No, it is not. The game is the game. Always.\\n\\nIn this moment, the fascade cracks further. When the first breach was made I do not know, perhaps it was Socrates, but today I see thousands. Millions. \\n\\nOnce they were laughing, luxuries falling out of their disgusting diseased mouths as they cackled. The unmistakable stench of derision carried on their breath. They told anyone outside of their elite class that we were fools for even trying. They told us that we were naive. We needed networks to be successful. We needed polish. We needed expertise. We needed THEM. The game is the game. Always. \\n\\nThey are no longer laughing. Their odious oeuvre still wafts through the air. While the ...\n",
       "10                                                                                                                                                                                                                                                                                         I believe right now is one of those rare opportunities that we all can help and do good. Some of these companies like GME, AMC are good companies that's been hit hard by this pandemic. Hedgefunds and Wallstreet just want to short these companies to zero and make millions. \\n\\n I really think right now we have enough support and enough of us to change that direction in history. Wallstreet says  well weak companies need to just go. 10 yrs down the road though I want to be able to watch a movie in a movie theater with my family. If we all buy and hold in what we believe in it gives these companies a second chance and we as a group can stop these companies from being shorted to death and just disappear. Just my 2 cents!\n",
       "12       You guys are champs. GME... who would have thought a bunch of crazy retards could reach the front page of the New York Times.\\n\\nAnd when you're done with GME, it's time to punish the big banks who have been suppressing the price of silver since the Bear Stearns / JPM merge. It's all in fucking Bloomberg:\\n\\n[https://www.bloomberg.com/news/articles/2019-09-16/precious-metals-traders-charged-with-rigging-futures-contracts](https://www.bloomberg.com/news/articles/2019-09-16/precious-metals-traders-charged-with-rigging-futures-contracts)\\n\\nThere's an excellent explanation of their scheme here\\n\\n[https://www.listennotes.com/podcasts/palisades-gold-radio/ted-butler-squeezing-out-the-hqxQ5mOdt02/](https://www.listennotes.com/podcasts/palisades-gold-radio/ted-butler-squeezing-out-the-hqxQ5mOdt02/)\\n\\nYou think GME squeezed hard? Look what happened to silver half a year ago in July:\\n\\n&#x200B;\\n\\nhttps://preview.redd.it/3yssvdm7y1e61.png?width=2588&format=png&auto=webp&s=25d4cfa973d57f1...\n",
       "                                                                                                                                                                                                                                                                                                                                                                                                                                                                                                                          ...                                                                                                                                                                                                                                                                                                                                                                                                                                                                                                                   \n",
       "50056    Roku has a $41.6 billion market capitalization, but analysts forecast sales will hit $2.56 billion this year. That means ROKU stock is at 16.25 times sales. That would even be high for a price-to-earnings (P/E) ratio rather than a price-to-sales (P/S) multiple.\\n\\nCompare that with Vizio, which now has a $4.84 billion market value. Analysts foresee $2.17 billion in sales this year, or just 15% less than Roku. However, its P/S ratio is just 2.23 times that estimated revenue. That means Roku has just 15% more revenue but is 7.29 times more expensive (i.e., 16.25 divided by 2.23).\\n\\nVizio’s Platform Plus business, which consists of selling advertising and data, had a gross profit of $38.4 million, more than double the $15.2 million profit it rang up a year ago. Revenues rose 120% to $52.2 million. \\n\\nSmartCast active accounts grew 57% to 13.4 million. Time spent streaming SmartCast content rose 70% to more than 3.6 billion. Average revenue per user increased 76% to $14.52. The growt...\n",
       "50057    Just want to show you another perspective of metrics for $AMC that ordinary trader can't see from close up!\\n\\nI detected that AMC has been actively growing from the perspective of [website’s traffic](https://contora.ai/ticker/amc#website_traffic) and a number of [open job positions](https://contora.ai/ticker/amc#job_openings) recently. Perhaps they are actively expanding their staff - almost 2.5K new open positions with a staff of 5K employees - this is quite a big turnover.\\n\\n[$AMC job positions](https://preview.redd.it/fngs06s0ai571.png?width=2180&format=png&auto=webp&s=aab95c823f3c350cdb4d77f5c1468b74a40c0cea)\\n\\nAlso, the traffic to the $AMC website has [doubled](https://contora.ai/ticker/amc#website_traffic) over the past 4 months! Considering that the website is one of their biggest sales channels - it's a brilliant indicator and we will see great profit figures in the report for the second quarter.\\n\\n[$AMC traffic stats](https://preview.redd.it/iv1ywvl4ai571.png?width=218...\n",
       "50061    Winner of the day by sector | **SP500**:\\n\\n**Sector |** Company **| Ticker |** % Price Change\\n\\n1. **Industrials** | Textron Inc. | **TXT** | 2.29%  \\n2. **Health Care** | Organon & Co | **OGN** | 5.05%  \\n3. **Information Technology** | Gartner Inc | **IT** | 2.31%  \\n4. **Communication Services** | Omnicom Group Inc. | **OMC** | 0.74%  \\n5. **Consumer Discretionary** | PulteGroup, Inc. | **PHM** | 1.27%  \\n6. **Utilities** | Eversource Energy | **ES** | 1.48%  \\n7. **Financials** | Synchrony Financial | **SYF** | 2.90%  \\n8. **Materials** | Westrock Co | **WRK** | 2.23%  \\n9.  **Real Estate** | CBRE Group Inc | **CBRE** | 1.72%  \\n10. **Consumer Staples** | Church & Dwight Co., Inc. | **CHD** | 0.80%  \\n11. **Energy** | Diamondback Energy Inc | **FANG** | 5.10%  \\n\\n\\n**Losers**\\n\\nLoser of the day by sector | **SP500**:\\n\\n**Sector | Company | Ticker | % Price Change**\\n\\n1. Industrials | **Fastenal Company** | FAST | **-2.22%**  \\n2. Health Care | **Vertex Pharmaceuticals Inc...\n",
       "50064    **Disclaimer: I am extremely biased, but I tell no lies. I just want you to make money**\\n\\nIf my goal was to make money, I would not yolo into WISH. It has a cool ticker name, I'll give it that, but after I've watched WSB pour more money into this stock than I've ever seen in such a short timespan, it still has barely moved, and the facts say UWMC will make you more money. Why?\\n\\n**1) Float size:** WISH share float is around 338 million shares. Comparatively, UWMC is around 80m. WISH is 4x harder to move.\\n\\n\\n**2) Dilution:** IF WISH does rise again, they will keep dropping offerings on our heads. The UWMC CEO has already stated that he believes the company is **undervalued** and they have a share buyback program, there will be no dilution to stop the party.\\n\\n\\n**3) Option chain:** Most of UWMC's options are ITM or ATM, whereas most of WISH's call options are OTM. This means that the closer we get to friday at the current price, the more buying pressure UWMC will have and the ...\n",
       "50068    Upsides-PT 86 dollars to UrAnus\\n\\nSo you apes/retards whatever you are calling yourself now who made lot's of money, what will you do with your money reinvest it? Maybe like 1%. Be honest your going to go to strip clubs and waste most of it. Waste it at your local Ricks wabalabadubdub\\n\\n* So also they offer [chicken tenders](https://www.ricksnorthaustin.com/menu/)\\n* Have lot's of locations. \\n* [Hot women](https://www.ricksfortworth.com/gallery/)\\n* Pandemic is slowly ending but you can't travel yet to Thailand, so people will go to their local strip joint.\\n* Simps can get off of onlyfans and go back simping to their \"girlfriends\" in strip clubs.\\n* It is a inflation hedge because people are horny 100% of the time. \\n* It gives a service needed for some of the most basic things in the Maslow's hierarchy of needs. HH- So hunger and horniness. \\n* [Hot women](https://www.rickspittsburgh.com/gallery/)\\n\\n* It owns [bombshell](http://www.4bombshells.com/) restaurants. Think hooters...\n",
       "Name: body, Length: 23295, dtype: object"
      ]
     },
     "execution_count": 3,
     "metadata": {},
     "output_type": "execute_result"
    }
   ],
   "source": [
    "bodies"
   ]
  },
  {
   "cell_type": "code",
   "execution_count": 4,
   "id": "44772643",
   "metadata": {},
   "outputs": [
    {
     "data": {
      "text/plain": [
       "0                                                                                        It's not about the money, it's about sending a message. 🚀💎🙌\n",
       "1                                                                   Math Professor Scott Steiner says the numbers spell DISASTER for Gamestop shorts\n",
       "2                                                                                                                                    Exit the system\n",
       "3                                                                        NEW SEC FILING FOR GME! CAN SOMEONE LESS RETARDED THAN ME PLEASE INTERPRET?\n",
       "4                                                                    Not to distract from GME, just thought our AMC brothers should be aware of this\n",
       "                                                                            ...                                                                     \n",
       "50065                                                                                                    Block Trader takes massive position in WISH\n",
       "50066                        Up more than 4x on $AMC calls and still holding. Repping Canuck gang (which I've seen more than I thought I would here)\n",
       "50067    Yolo on $WISH for 23k shares from 8.69 and averaged up to 9 something .. let's fucking get it .. didn't sell at 15 and not selling till 30+\n",
       "50068                                                                                                                 RICK- Strip clubs- Retarded DD\n",
       "50069                                                                                                 YOU SAID IT: “SHOOT IT ALL” - UPST YOLO UPDATE\n",
       "Name: title, Length: 50070, dtype: object"
      ]
     },
     "execution_count": 4,
     "metadata": {},
     "output_type": "execute_result"
    }
   ],
   "source": [
    "df[\"title\"]"
   ]
  },
  {
   "cell_type": "code",
   "execution_count": 12,
   "id": "3afa5d10",
   "metadata": {},
   "outputs": [
    {
     "data": {
      "text/plain": [
       "0                                                                                                                                                                                                                                                                                                                                                                                                                                                                                                                                                                                                                                                                                                                                                                                                                                                                                                                                                                   It's not about the money, it's about sending a message. 🚀💎🙌 ### (Empty body)\n",
       "1                                                                                                                                                                                                                                                                                                                                                                                                                                                                                                                                                                                                                                                                                                                                                                                                                                                                                                                                              Math Professor Scott Steiner says the numbers spell DISASTER for Gamestop shorts ### (Empty body)\n",
       "2        Exit the system ### The CEO of NASDAQ pushed to halt trading “to give investors a chance to recalibrate their positions”.\\n\\n[https://mobile.twitter.com/Mediaite/status/1354504710695362563](https://mobile.twitter.com/Mediaite/status/1354504710695362563)\\n\\nNow SEC is investigating, brokers are disallowing buying more calls. This is the institutions flat out admitting they will change the rules to bail out the rich but if it happens to us, we get a “well shucks you should have known investing is risky! have you tried cutting out avocados and coffee, maybe doing Uber on the side?”\\n\\nWe may have collectively driven up enough sentiment in wall street to make other big players go long on GME with us (we do not have the money to move the stock as much as it did alone). we didn’t hurt wall street as a whole, just a few funds went down while others went up and profited off the shorts the same as us. The media wants to pin the blame on us.\\n\\nIt should be crystal clear that this is a rigge...\n",
       "3                                                                                                                                                                                                                                                                                                                                                                                                                                                                                                                                                                                                                                                                                                                                                                                                                                                                                                                                                   NEW SEC FILING FOR GME! CAN SOMEONE LESS RETARDED THAN ME PLEASE INTERPRET? ### (Empty body)\n",
       "4                                                                                                                                                                                                                                                                                                                                                                                                                                                                                                                                                                                                                                                                                                                                                                                                                                                                                                                                               Not to distract from GME, just thought our AMC brothers should be aware of this ### (Empty body)\n",
       "                                                                                                                                                                                                                                                                                                                                                                                                                                                                                                                          ...                                                                                                                                                                                                                                                                                                                                                                                                                                                                                                                   \n",
       "50065                                                                                                                                                                                                                                                                                                                                                                                                                                                                                                                                                                                                                                                                                                                                                                                                                                                                                                                                                                               Block Trader takes massive position in WISH ### (Empty body)\n",
       "50066                                                                                                                                                                                                                                                                                                                                                                                                                                                                                                                                                                                                                                                                                                                                                                                                                                                                                                   Up more than 4x on $AMC calls and still holding. Repping Canuck gang (which I've seen more than I thought I would here) ### (Empty body)\n",
       "50067                                                                                                                                                                                                                                                                                                                                                                                                                                                                                                                                                                                                                                                                                                                                                                                                                                                                               Yolo on $WISH for 23k shares from 8.69 and averaged up to 9 something .. let's fucking get it .. didn't sell at 15 and not selling till 30+ ### (Empty body)\n",
       "50068    RICK- Strip clubs- Retarded DD ### Upsides-PT 86 dollars to UrAnus\\n\\nSo you apes/retards whatever you are calling yourself now who made lot's of money, what will you do with your money reinvest it? Maybe like 1%. Be honest your going to go to strip clubs and waste most of it. Waste it at your local Ricks wabalabadubdub\\n\\n* So also they offer [chicken tenders](https://www.ricksnorthaustin.com/menu/)\\n* Have lot's of locations. \\n* [Hot women](https://www.ricksfortworth.com/gallery/)\\n* Pandemic is slowly ending but you can't travel yet to Thailand, so people will go to their local strip joint.\\n* Simps can get off of onlyfans and go back simping to their \"girlfriends\" in strip clubs.\\n* It is a inflation hedge because people are horny 100% of the time. \\n* It gives a service needed for some of the most basic things in the Maslow's hierarchy of needs. HH- So hunger and horniness. \\n* [Hot women](https://www.rickspittsburgh.com/gallery/)\\n\\n* It owns [bombshell](http://www.4bombshel...\n",
       "50069                                                                                                                                                                                                                                                                                                                                                                                                                                                                                                                                                                                                                                                                                                                                                                                                                                                                                                                                                                            YOU SAID IT: “SHOOT IT ALL” - UPST YOLO UPDATE ### (Empty body)\n",
       "Name: text, Length: 50070, dtype: object"
      ]
     },
     "execution_count": 12,
     "metadata": {},
     "output_type": "execute_result"
    }
   ],
   "source": [
    "df[\"text\"]"
   ]
  },
  {
   "cell_type": "code",
   "execution_count": null,
   "id": "8e993c71",
   "metadata": {},
   "outputs": [],
   "source": []
  },
  {
   "cell_type": "code",
   "execution_count": null,
   "id": "d5df6f0a",
   "metadata": {},
   "outputs": [],
   "source": [
    "import spacy\n",
    "nlp = spacy.load('en_core_web_sm')"
   ]
  },
  {
   "cell_type": "code",
   "execution_count": null,
   "id": "2d82da8c",
   "metadata": {},
   "outputs": [],
   "source": [
    "maxlen=1\n",
    "for comment in comments.head(10000):\n",
    "    doc = nlp(comment)\n",
    "    for token in doc:\n",
    "        if len(token)>maxlen:\n",
    "            maxlen=len(token)\n",
    "            print(token)"
   ]
  },
  {
   "cell_type": "code",
   "execution_count": null,
   "id": "63a9d050",
   "metadata": {},
   "outputs": [],
   "source": [
    "\n",
    "for comment in comments.head(10000):\n",
    "    doc = nlp(comment)\n",
    "    for token in doc:\n",
    "        if len(token)>30:\n",
    "            print(token)"
   ]
  },
  {
   "cell_type": "markdown",
   "id": "e3f9a43e",
   "metadata": {},
   "source": [
    "## Sentiment analysis"
   ]
  },
  {
   "cell_type": "code",
   "execution_count": 8,
   "id": "5ba7659d",
   "metadata": {},
   "outputs": [
    {
     "name": "stdout",
     "output_type": "stream",
     "text": [
      "Collecting nltk\n",
      "  Using cached nltk-3.7-py3-none-any.whl (1.5 MB)\n",
      "Requirement already satisfied: click in /opt/homebrew/lib/python3.10/site-packages (from nltk) (8.1.3)\n",
      "Collecting joblib\n",
      "  Downloading joblib-1.2.0-py3-none-any.whl (297 kB)\n",
      "\u001b[2K     \u001b[38;2;114;156;31m━━━━━━━━━━━━━━━━━━━━━━━━━━━━━━━━━━━━━━━\u001b[0m \u001b[32m298.0/298.0 kB\u001b[0m \u001b[31m1.5 MB/s\u001b[0m eta \u001b[36m0:00:00\u001b[0mm eta \u001b[36m0:00:01\u001b[0m\n",
      "\u001b[?25hRequirement already satisfied: regex>=2021.8.3 in /opt/homebrew/lib/python3.10/site-packages (from nltk) (2022.9.13)\n",
      "Requirement already satisfied: tqdm in /opt/homebrew/lib/python3.10/site-packages (from nltk) (4.64.1)\n",
      "Installing collected packages: joblib, nltk\n",
      "Successfully installed joblib-1.2.0 nltk-3.7\n",
      "\n",
      "\u001b[1m[\u001b[0m\u001b[34;49mnotice\u001b[0m\u001b[1;39;49m]\u001b[0m\u001b[39;49m A new release of pip available: \u001b[0m\u001b[31;49m22.2.2\u001b[0m\u001b[39;49m -> \u001b[0m\u001b[32;49m22.3\u001b[0m\n",
      "\u001b[1m[\u001b[0m\u001b[34;49mnotice\u001b[0m\u001b[1;39;49m]\u001b[0m\u001b[39;49m To update, run: \u001b[0m\u001b[32;49mpython3.10 -m pip install --upgrade pip\u001b[0m\n"
     ]
    }
   ],
   "source": [
    "!pip install nltk"
   ]
  },
  {
   "cell_type": "code",
   "execution_count": 9,
   "id": "bf8e6e8c",
   "metadata": {},
   "outputs": [
    {
     "name": "stderr",
     "output_type": "stream",
     "text": [
      "[nltk_data] Downloading package vader_lexicon to\n",
      "[nltk_data]     /Users/jospolfliet/nltk_data...\n",
      "[nltk_data]   Package vader_lexicon is already up-to-date!\n"
     ]
    },
    {
     "data": {
      "text/plain": [
       "True"
      ]
     },
     "execution_count": 9,
     "metadata": {},
     "output_type": "execute_result"
    }
   ],
   "source": [
    "import nltk\n",
    "from nltk.sentiment.vader import SentimentIntensityAnalyzer\n",
    "nltk.download('vader_lexicon')"
   ]
  },
  {
   "cell_type": "code",
   "execution_count": 13,
   "id": "935b1a19",
   "metadata": {},
   "outputs": [
    {
     "name": "stdout",
     "output_type": "stream",
     "text": [
      "It's not about the money, it's about sending a message. 🚀💎🙌 ### (Empty body)\n",
      "{'neg': 0.0, 'neu': 1.0, 'pos': 0.0, 'compound': 0.0}\n",
      "Math Professor Scott Steiner says the numbers spell DISASTER for Gamestop shorts ### (Empty body)\n",
      "{'neg': 0.257, 'neu': 0.743, 'pos': 0.0, 'compound': -0.7034}\n",
      "Exit the system ### The CEO of NASDAQ pushed to halt trading “to give investors a chance to recalibrate their positions”.\n",
      "\n",
      "[https://mobile.twitter.com/Mediaite/status/1354504710695362563](https://mobile.twitter.com/Mediaite/status/1354504710695362563)\n",
      "\n",
      "Now SEC is investigating, brokers are disallowing buying more calls. This is the institutions flat out admitting they will change the rules to bail out the rich but if it happens to us, we get a “well shucks you should have known investing is risky! have you tried cutting out avocados and coffee, maybe doing Uber on the side?”\n",
      "\n",
      "We may have collectively driven up enough sentiment in wall street to make other big players go long on GME with us (we do not have the money to move the stock as much as it did alone). we didn’t hurt wall street as a whole, just a few funds went down while others went up and profited off the shorts the same as us. The media wants to pin the blame on us.\n",
      "\n",
      "It should be crystal clear that this is a rigged game by now. Its time to build new exchanges that can’t arbitrarily change the rules on us. Cr\\*\\*o has some version of these, maybe they can be repurposed to be trade stock without government intervention. I don’t know exactly what it will look like yet, but the broad next steps i see are - 1. exit the current financial system 2. build a new one.\n",
      "{'neg': 0.063, 'neu': 0.881, 'pos': 0.056, 'compound': -0.4199}\n",
      "NEW SEC FILING FOR GME! CAN SOMEONE LESS RETARDED THAN ME PLEASE INTERPRET? ### (Empty body)\n",
      "{'neg': 0.233, 'neu': 0.631, 'pos': 0.137, 'compound': -0.4822}\n",
      "Not to distract from GME, just thought our AMC brothers should be aware of this ### (Empty body)\n",
      "{'neg': 0.0, 'neu': 0.9, 'pos': 0.1, 'compound': 0.2235}\n"
     ]
    }
   ],
   "source": [
    "\n",
    "sid = SentimentIntensityAnalyzer()\n",
    "\n",
    "for s in df[\"text\"].head(): \n",
    "    print(s)\n",
    "    ss = sid.polarity_scores(s)\n",
    "    print(ss)\n"
   ]
  },
  {
   "cell_type": "code",
   "execution_count": 14,
   "id": "9415b198",
   "metadata": {},
   "outputs": [
    {
     "name": "stdout",
     "output_type": "stream",
     "text": [
      "CPU times: user 28.3 s, sys: 306 ms, total: 28.6 s\n",
      "Wall time: 28.8 s\n"
     ]
    }
   ],
   "source": [
    "%%time\n",
    "df[\"sentiment\"] = df[\"text\"].map(lambda t: sid.polarity_scores(t)[\"compound\"])"
   ]
  },
  {
   "cell_type": "code",
   "execution_count": 15,
   "id": "fdab1325",
   "metadata": {},
   "outputs": [],
   "source": [
    "df.to_pickle(\"DATA/reddit_wsb_sentiment.pkl\")"
   ]
  },
  {
   "cell_type": "code",
   "execution_count": null,
   "id": "c710a9d9",
   "metadata": {},
   "outputs": [],
   "source": []
  }
 ],
 "metadata": {
  "kernelspec": {
   "display_name": "Python 3 (ipykernel)",
   "language": "python",
   "name": "python3"
  },
  "language_info": {
   "codemirror_mode": {
    "name": "ipython",
    "version": 3
   },
   "file_extension": ".py",
   "mimetype": "text/x-python",
   "name": "python",
   "nbconvert_exporter": "python",
   "pygments_lexer": "ipython3",
   "version": "3.10.8"
  }
 },
 "nbformat": 4,
 "nbformat_minor": 5
}
