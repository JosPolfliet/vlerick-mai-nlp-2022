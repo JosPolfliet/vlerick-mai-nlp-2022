{
 "cells": [
  {
   "cell_type": "markdown",
   "metadata": {},
   "source": [
    "Where to try:\n",
    "- Still the best (but paid): https://beta.openai.com/playground?mode=complete\n",
    "- Bloom free: https://huggingface.co/spaces/huggingface/bloom_demo\n",
    "- Flan-T5 free: https://huggingface.co/spaces/osanseviero/i-like-flan \n",
    "- GPT-J-20B free: https://textsynth.com/playground.html\n",
    "- GPT-neo\n"
   ]
  },
  {
   "cell_type": "markdown",
   "metadata": {},
   "source": [
    "## Prompts to try"
   ]
  },
  {
   "cell_type": "markdown",
   "metadata": {},
   "source": [
    "OpenAPI playground\n",
    "\n",
    "Test 1\n",
    "```\n",
    "The following analyses the sentiment and extracts the stock ticker symbol from text:\n",
    "\n",
    "Text: 420 wasn’t a meme. GME 🚀 🚀 🚀 \n",
    "Sentiment: positive\n",
    "Ticker: GME\n",
    "\n",
    "Text: The suckers are selling and tide is turning on GOOG, time to sell!\n",
    "Sentiment: negative\n",
    "Ticker: GOOG\n",
    "\n",
    "Text: I'm so stoked about GST\n",
    "Sentiment:\n",
    "```\n",
    "\n",
    "Change to JSON for easier processing\n",
    "```\n",
    "The following analyses the sentiment and extracts the stock ticker symbol from text as JSON:\n",
    "\n",
    "Text: 420 wasn’t a meme. GME 🚀 🚀 🚀 \n",
    "Output:\n",
    "{sentiment: \"positive\", ticker: \"GME\"}\n",
    "\n",
    "Text: The suckers are selling and tide is turning on GOOG, time to sell!\n",
    "{sentiment: \"negative\", ticker: \"GOOG\"}\n",
    "\n",
    "Text: I'm so stoked about GST\n",
    "{sentiment: \"\n",
    "```"
   ]
  },
  {
   "cell_type": "markdown",
   "metadata": {},
   "source": [
    "Stories\n",
    "```\n",
    "Harry Potter's first day at the Vlerick Business School started badly. He was a world-saving wizard, and immediately felt he didn't belong with the business professors talking about income statements, macro-economics and\n",
    "```"
   ]
  },
  {
   "cell_type": "markdown",
   "metadata": {},
   "source": [
    "Recommendations\n",
    "```\n",
    "My all-time list of favorite jazz standards:\n",
    "\n",
    "* Bill Evans - Peace Piece\n",
    "* George Gershwin - Rhapsody in Blue\n",
    "* Miles Davis - All Blues\n",
    "* \n",
    "```\n",
    "Trying to make it give out of genre suggestions. (GPT-J breaks down, GPT-3 does this really well)\n",
    "```\n",
    "I really love jazz standards like\n",
    "* Song: Bill Evans - Peace Piece\n",
    "* Song: George Gershwin - Rhapsody in Blue\n",
    "* Song: Miles Davis - All Blues\n",
    "\n",
    "Sometimes I want something a bit more modern, and then I'll listen to songs like\n",
    "* Song: \n",
    "```"
   ]
  },
  {
   "cell_type": "markdown",
   "metadata": {},
   "source": [
    "Code\n",
    "```\n",
    "def train_sentiment_classifier(examples):\n",
    "    \"\"\"Train a sentiment classification pipeline\n",
    "\n",
    "    Args:\n",
    "        examples (list(dict)): A list of examples, where each example is a\n",
    "            dict containing \"text\" (str) and \"label\" (str) keys\n",
    "\n",
    "    Returns:\n",
    "        nlp (spacy.language.Language): The trained nlp pipeline\n",
    "    \"\"\"\n",
    "```"
   ]
  },
  {
   "cell_type": "markdown",
   "metadata": {},
   "source": [
    "Math (/ joke)\n",
    "```\n",
    "Given that $a$ is the thickness of the pizza, and $z$ is the radius, the total volume of the pizza would be calculated as \n"
   ]
  },
  {
   "cell_type": "markdown",
   "metadata": {},
   "source": [
    "## Run locally"
   ]
  },
  {
   "cell_type": "markdown",
   "metadata": {},
   "source": [
    "You can try other models, but not on your laptop. Use Google Colab or big GPU machine somewhere\n",
    "* EleutherAI/gpt-neo-2.7B\n",
    "* bigscience/bloom"
   ]
  },
  {
   "cell_type": "code",
   "execution_count": 4,
   "metadata": {},
   "outputs": [
    {
     "data": {
      "text/plain": [
       "[{'generated_text': \"Hello, I'm a language model student.\\nI have a problem with the following code:\\npublic class LanguageModel {\\n\\n    public static void main(String[] args\"}]"
      ]
     },
     "execution_count": 4,
     "metadata": {},
     "output_type": "execute_result"
    }
   ],
   "source": [
    "from transformers import pipeline\n",
    "generator = pipeline('text-generation', model = 'bigscience/bloom-560m')\n",
    "\n"
   ]
  },
  {
   "cell_type": "code",
   "execution_count": 8,
   "metadata": {},
   "outputs": [
    {
     "name": "stdout",
     "output_type": "stream",
     "text": [
      "The following analyses the sentiment and extracts the stock ticker symbol from text as JSON:\n",
      "\n",
      "Text: 420 wasn’t a meme. GME 🚀 🚀 🚀 \n",
      "Output:\n",
      "{sentiment: \"positive\", ticker: \"GME\"}\n",
      "\n",
      "Text: The suckers are selling and tide is turning on GOOG, time to sell!\n",
      "{sentiment: \"negative\", ticker: \"GOOG\"}\n",
      "\n",
      "Text: I'm so stoked about GST\n",
      "{sentiment:  \"negative\", ticker: \"GST\"}\n",
      "\n",
      "Text: I don't know if I can get the stock to go up, but I think it will.\n",
      "Text: I don't know if I can get the stock to go up, but I think it will.\n",
      "Text: I don't know if I can get the stock to go up, but I think it will.\n",
      "Text: I don't know if I can get the stock to go up, but I think it will.\n",
      "Text: I don't know if I can get the stock to go up, but I think it will.\n",
      "Text: I don't know if I can get the stock to go up, but I think it will.\n",
      "Text: I don't know if I can get the stock to go up, but I think it will.\n",
      "Text: I don't know if I can get the stock to go up, but I think it will.\n",
      "Text: I don't know if I can get the stock to go up, but I think it will.\n",
      "Text: I don't know if I can get the stock\n"
     ]
    }
   ],
   "source": [
    "def complete(s):\n",
    "    print(generator(s, max_length = 300)[0][\"generated_text\"])\n",
    "\n",
    "complete(\"\"\"The following analyses the sentiment and extracts the stock ticker symbol from text as JSON:\n",
    "\n",
    "Text: 420 wasn’t a meme. GME 🚀 🚀 🚀 \n",
    "Output:\n",
    "{sentiment: \"positive\", ticker: \"GME\"}\n",
    "\n",
    "Text: The suckers are selling and tide is turning on GOOG, time to sell!\n",
    "{sentiment: \"negative\", ticker: \"GOOG\"}\n",
    "\n",
    "Text: I'm so stoked about GST\n",
    "{sentiment: \"\"\")"
   ]
  },
  {
   "cell_type": "code",
   "execution_count": null,
   "metadata": {},
   "outputs": [],
   "source": []
  }
 ],
 "metadata": {
  "colab": {
   "collapsed_sections": [],
   "include_colab_link": true,
   "name": "nlpdemystified-preprocessing.ipynb",
   "private_outputs": true,
   "provenance": []
  },
  "kernelspec": {
   "display_name": "Python 3 (ipykernel)",
   "language": "python",
   "name": "python3"
  },
  "language_info": {
   "codemirror_mode": {
    "name": "ipython",
    "version": 3
   },
   "file_extension": ".py",
   "mimetype": "text/x-python",
   "name": "python",
   "nbconvert_exporter": "python",
   "pygments_lexer": "ipython3",
   "version": "3.10.8"
  }
 },
 "nbformat": 4,
 "nbformat_minor": 4
}
